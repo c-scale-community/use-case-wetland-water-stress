{
 "cells": [
  {
   "cell_type": "markdown",
   "source": [
    "# Data Preprocessing\n",
    "\n",
    "This notebook handles, preprocessing of raw data which is to be used for training and validating models"
   ],
   "metadata": {
    "collapsed": false,
    "pycharm": {
     "name": "#%% md\n"
    }
   }
  },
  {
   "cell_type": "markdown",
   "source": [
    "## Preprocess Sentinel-1 Data\n",
    "\n",
    "Query the Sentinel-1 Data buckets:\n",
    " - Query S3 storage for general area and time of interest\n",
    " - Clip to region of interests (wetlands)\n",
    " - Clamp values to reduce noise  - data investigation determined a range of [0, 200]\n",
    " - Coarsen raster data so our models don't get too big - no GPUs atm\n",
    " - Save as int16 -> sufficient precision as we raw data is stored in int16 as well, and we don't add info"
   ],
   "metadata": {
    "collapsed": false,
    "pycharm": {
     "name": "#%% md\n"
    }
   }
  },
  {
   "cell_type": "markdown",
   "source": [
    "### Load S1-Datasets and Ramsar Geometry\n",
    "\n",
    "Load the S1 datasets in the time and region of interest as well as the Ramsar shape files containing the geometry of the wetlands.\n",
    "\n",
    "**NOTE:** We use VH for now, as the reduced noise should help training machine learning models"
   ],
   "metadata": {
    "collapsed": false,
    "pycharm": {
     "name": "#%% md\n"
    }
   }
  },
  {
   "cell_type": "code",
   "execution_count": 1,
   "outputs": [
    {
     "ename": "AssertionError",
     "evalue": "error filtering for band in files: [PosixPath('/eodata/Sentinel-1/SAR/GRD/2021/03/20/S1B_IW_GRDH_1SDH_20210320T052559_20210320T052623_026094_031D16_C785.SAFE/measurement/s1b-iw-grd-hh-20210320t052559-20210320t052623-026094-031d16-001.tiff'), PosixPath('/eodata/Sentinel-1/SAR/GRD/2021/03/20/S1B_IW_GRDH_1SDH_20210320T052559_20210320T052623_026094_031D16_C785.SAFE/measurement/s1b-iw-grd-hv-20210320t052559-20210320t052623-026094-031d16-002.tiff')]",
     "output_type": "error",
     "traceback": [
      "\u001B[0;31m---------------------------------------------------------------------------\u001B[0m",
      "\u001B[0;31mAssertionError\u001B[0m                            Traceback (most recent call last)",
      "Input \u001B[0;32mIn [1]\u001B[0m, in \u001B[0;36m<cell line: 7>\u001B[0;34m()\u001B[0m\n\u001B[1;32m      4\u001B[0m S1_2021_AT_FILE_LIST \u001B[38;5;241m=\u001B[39m Path(\u001B[38;5;124m\"\u001B[39m\u001B[38;5;124m/shared/sentinel-1/paths-west-AT-2021.txt\u001B[39m\u001B[38;5;124m\"\u001B[39m)\n\u001B[1;32m      5\u001B[0m RAMSAR_SHAPE_FILE \u001B[38;5;241m=\u001B[39m Path(\u001B[38;5;124m\"\u001B[39m\u001B[38;5;124m/shared/ramsar/RAMSAR_AT_01.shp\u001B[39m\u001B[38;5;124m\"\u001B[39m)\n\u001B[0;32m----> 7\u001B[0m vh_datasets \u001B[38;5;241m=\u001B[39m \u001B[43mload_s1_datasets_from_file_list\u001B[49m\u001B[43m(\u001B[49m\u001B[43mS1_2021_AT_FILE_LIST\u001B[49m\u001B[43m,\u001B[49m\u001B[43m \u001B[49m\u001B[43mbands\u001B[49m\u001B[38;5;241;43m=\u001B[39;49m\u001B[43m{\u001B[49m\u001B[38;5;124;43m'\u001B[39;49m\u001B[38;5;124;43mVH\u001B[39;49m\u001B[38;5;124;43m'\u001B[39;49m\u001B[43m}\u001B[49m\u001B[43m)\u001B[49m\n\u001B[1;32m      8\u001B[0m ramsar_shapes \u001B[38;5;241m=\u001B[39m load_rois(RAMSAR_SHAPE_FILE)\n",
      "File \u001B[0;32m~/code/use-case-wetland-water-stress/rattlinbog/loaders.py:50\u001B[0m, in \u001B[0;36mload_s1_datasets_from_file_list\u001B[0;34m(file_list, bands)\u001B[0m\n\u001B[1;32m     48\u001B[0m safes \u001B[38;5;241m=\u001B[39m \u001B[38;5;28mmap\u001B[39m(Path, file_list\u001B[38;5;241m.\u001B[39mread_text()\u001B[38;5;241m.\u001B[39msplitlines())\n\u001B[1;32m     49\u001B[0m files \u001B[38;5;241m=\u001B[39m [[f \u001B[38;5;28;01mfor\u001B[39;00m f \u001B[38;5;129;01min\u001B[39;00m (s \u001B[38;5;241m/\u001B[39m \u001B[38;5;124m\"\u001B[39m\u001B[38;5;124mmeasurement\u001B[39m\u001B[38;5;124m\"\u001B[39m)\u001B[38;5;241m.\u001B[39mglob(\u001B[38;5;124m\"\u001B[39m\u001B[38;5;124m*.tiff\u001B[39m\u001B[38;5;124m\"\u001B[39m)] \u001B[38;5;28;01mfor\u001B[39;00m s \u001B[38;5;129;01min\u001B[39;00m safes]\n\u001B[0;32m---> 50\u001B[0m \u001B[38;5;28;01mreturn\u001B[39;00m [load_s1_dataset(fs, bands) \u001B[38;5;28;01mfor\u001B[39;00m fs \u001B[38;5;129;01min\u001B[39;00m files]\n",
      "File \u001B[0;32m~/code/use-case-wetland-water-stress/rattlinbog/loaders.py:50\u001B[0m, in \u001B[0;36m<listcomp>\u001B[0;34m(.0)\u001B[0m\n\u001B[1;32m     48\u001B[0m safes \u001B[38;5;241m=\u001B[39m \u001B[38;5;28mmap\u001B[39m(Path, file_list\u001B[38;5;241m.\u001B[39mread_text()\u001B[38;5;241m.\u001B[39msplitlines())\n\u001B[1;32m     49\u001B[0m files \u001B[38;5;241m=\u001B[39m [[f \u001B[38;5;28;01mfor\u001B[39;00m f \u001B[38;5;129;01min\u001B[39;00m (s \u001B[38;5;241m/\u001B[39m \u001B[38;5;124m\"\u001B[39m\u001B[38;5;124mmeasurement\u001B[39m\u001B[38;5;124m\"\u001B[39m)\u001B[38;5;241m.\u001B[39mglob(\u001B[38;5;124m\"\u001B[39m\u001B[38;5;124m*.tiff\u001B[39m\u001B[38;5;124m\"\u001B[39m)] \u001B[38;5;28;01mfor\u001B[39;00m s \u001B[38;5;129;01min\u001B[39;00m safes]\n\u001B[0;32m---> 50\u001B[0m \u001B[38;5;28;01mreturn\u001B[39;00m [\u001B[43mload_s1_dataset\u001B[49m\u001B[43m(\u001B[49m\u001B[43mfs\u001B[49m\u001B[43m,\u001B[49m\u001B[43m \u001B[49m\u001B[43mbands\u001B[49m\u001B[43m)\u001B[49m \u001B[38;5;28;01mfor\u001B[39;00m fs \u001B[38;5;129;01min\u001B[39;00m files]\n",
      "File \u001B[0;32m~/code/use-case-wetland-water-stress/rattlinbog/loaders.py:31\u001B[0m, in \u001B[0;36mload_s1_dataset\u001B[0;34m(files, bands)\u001B[0m\n\u001B[1;32m     29\u001B[0m \u001B[38;5;28;01mfor\u001B[39;00m band \u001B[38;5;129;01min\u001B[39;00m bands:\n\u001B[1;32m     30\u001B[0m     band_file \u001B[38;5;241m=\u001B[39m [f \u001B[38;5;28;01mfor\u001B[39;00m f \u001B[38;5;129;01min\u001B[39;00m files \u001B[38;5;28;01mif\u001B[39;00m band\u001B[38;5;241m.\u001B[39mlower() \u001B[38;5;129;01min\u001B[39;00m f\u001B[38;5;241m.\u001B[39mstem\u001B[38;5;241m.\u001B[39mlower()]\n\u001B[0;32m---> 31\u001B[0m     \u001B[38;5;28;01massert\u001B[39;00m \u001B[38;5;28mlen\u001B[39m(band_file) \u001B[38;5;241m==\u001B[39m \u001B[38;5;241m1\u001B[39m, \u001B[38;5;124mf\u001B[39m\u001B[38;5;124m\"\u001B[39m\u001B[38;5;124merror filtering for band in files: \u001B[39m\u001B[38;5;132;01m{\u001B[39;00mfiles\u001B[38;5;132;01m}\u001B[39;00m\u001B[38;5;124m\"\u001B[39m\n\u001B[1;32m     32\u001B[0m     file \u001B[38;5;241m=\u001B[39m band_file[\u001B[38;5;241m0\u001B[39m]\n\u001B[1;32m     33\u001B[0m     \u001B[38;5;28;01mwith\u001B[39;00m rasterio\u001B[38;5;241m.\u001B[39mopen(file) \u001B[38;5;28;01mas\u001B[39;00m src:\n",
      "\u001B[0;31mAssertionError\u001B[0m: error filtering for band in files: [PosixPath('/eodata/Sentinel-1/SAR/GRD/2021/03/20/S1B_IW_GRDH_1SDH_20210320T052559_20210320T052623_026094_031D16_C785.SAFE/measurement/s1b-iw-grd-hh-20210320t052559-20210320t052623-026094-031d16-001.tiff'), PosixPath('/eodata/Sentinel-1/SAR/GRD/2021/03/20/S1B_IW_GRDH_1SDH_20210320T052559_20210320T052623_026094_031D16_C785.SAFE/measurement/s1b-iw-grd-hv-20210320t052559-20210320t052623-026094-031d16-002.tiff')]"
     ]
    }
   ],
   "source": [
    "from rattlinbog.loaders import load_s1_datasets_from_file_list, load_rois\n",
    "from pathlib import Path\n",
    "\n",
    "S1_2021_AT_FILE_LIST = Path(\"/shared/sentinel-1/paths-west-AT-2021.txt\")\n",
    "RAMSAR_SHAPE_FILE = Path(\"/shared/ramsar/RAMSAR_AT_01.shp\")\n",
    "\n",
    "vh_datasets = load_s1_datasets_from_file_list(S1_2021_AT_FILE_LIST, bands={'VH'})\n",
    "ramsar_shapes = load_rois(RAMSAR_SHAPE_FILE)"
   ],
   "metadata": {
    "collapsed": false,
    "pycharm": {
     "name": "#%%\n"
    }
   }
  }
 ],
 "metadata": {
  "kernelspec": {
   "display_name": "Python 3",
   "language": "python",
   "name": "python3"
  },
  "language_info": {
   "codemirror_mode": {
    "name": "ipython",
    "version": 2
   },
   "file_extension": ".py",
   "mimetype": "text/x-python",
   "name": "python",
   "nbconvert_exporter": "python",
   "pygments_lexer": "ipython2",
   "version": "2.7.6"
  }
 },
 "nbformat": 4,
 "nbformat_minor": 0
}